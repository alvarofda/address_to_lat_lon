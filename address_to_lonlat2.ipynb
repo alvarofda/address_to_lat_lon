{
 "cells": [
  {
   "cell_type": "markdown",
   "metadata": {},
   "source": [
    "# GEOCODING con GeoPy\n",
    "\n",
    "    - Autor: afuentes\n",
    "    - Fecha: 10/08/2021\n",
    "    \n",
    "## Objetivo\n",
    "\n",
    "    - Trasnformar un set de direcciones a latitud y longitud.\n",
    "    - Calcular distancia a un punto específico."
   ]
  },
  {
   "cell_type": "markdown",
   "metadata": {},
   "source": [
    "## 1 - Observamos la data"
   ]
  },
  {
   "cell_type": "code",
   "execution_count": 81,
   "metadata": {},
   "outputs": [],
   "source": [
    "# Librerias\n",
    "import pandas as pd\n",
    "import geopy\n",
    "from geopy.geocoders import Nominatim\n",
    "from geopy.extra.rate_limiter import RateLimiter\n",
    "from geopy import distance\n",
    "#import unidecode\n",
    "import warnings\n",
    "warnings.filterwarnings(\"ignore\")"
   ]
  },
  {
   "cell_type": "code",
   "execution_count": 82,
   "metadata": {},
   "outputs": [],
   "source": [
    "# importamos set de datos\n",
    "df = pd.read_csv('direcciones.csv').drop(columns=['Unnamed: 0'])"
   ]
  },
  {
   "cell_type": "code",
   "execution_count": 83,
   "metadata": {},
   "outputs": [
    {
     "data": {
      "text/html": [
       "<div>\n",
       "<style scoped>\n",
       "    .dataframe tbody tr th:only-of-type {\n",
       "        vertical-align: middle;\n",
       "    }\n",
       "\n",
       "    .dataframe tbody tr th {\n",
       "        vertical-align: top;\n",
       "    }\n",
       "\n",
       "    .dataframe thead th {\n",
       "        text-align: right;\n",
       "    }\n",
       "</style>\n",
       "<table border=\"1\" class=\"dataframe\">\n",
       "  <thead>\n",
       "    <tr style=\"text-align: right;\">\n",
       "      <th></th>\n",
       "      <th>Dirección</th>\n",
       "      <th>Comuna</th>\n",
       "    </tr>\n",
       "  </thead>\n",
       "  <tbody>\n",
       "    <tr>\n",
       "      <th>0</th>\n",
       "      <td>Manuel Rodríguez 39</td>\n",
       "      <td>Santiago (Centro)</td>\n",
       "    </tr>\n",
       "    <tr>\n",
       "      <th>1</th>\n",
       "      <td>Sergio Valdovinos 1399</td>\n",
       "      <td>Santiago (Centro)</td>\n",
       "    </tr>\n",
       "    <tr>\n",
       "      <th>2</th>\n",
       "      <td>Huérfanos 1685</td>\n",
       "      <td>Santiago (Centro)</td>\n",
       "    </tr>\n",
       "    <tr>\n",
       "      <th>3</th>\n",
       "      <td>Av Fermín vivaceta 2040</td>\n",
       "      <td>Independencia</td>\n",
       "    </tr>\n",
       "    <tr>\n",
       "      <th>4</th>\n",
       "      <td>Maule 1467</td>\n",
       "      <td>Renca</td>\n",
       "    </tr>\n",
       "  </tbody>\n",
       "</table>\n",
       "</div>"
      ],
      "text/plain": [
       "                Dirección              Comuna\n",
       "0      Manuel Rodríguez 39  Santiago (Centro)\n",
       "1   Sergio Valdovinos 1399  Santiago (Centro)\n",
       "2           Huérfanos 1685  Santiago (Centro)\n",
       "3  Av Fermín vivaceta 2040      Independencia\n",
       "4               Maule 1467              Renca"
      ]
     },
     "execution_count": 83,
     "metadata": {},
     "output_type": "execute_result"
    }
   ],
   "source": [
    "# Vemos algunos registros de la data\n",
    "df.head()"
   ]
  },
  {
   "cell_type": "code",
   "execution_count": 84,
   "metadata": {},
   "outputs": [
    {
     "data": {
      "text/plain": [
       "(238, 2)"
      ]
     },
     "execution_count": 84,
     "metadata": {},
     "output_type": "execute_result"
    }
   ],
   "source": [
    "# dimensión de la data\n",
    "df.shape"
   ]
  },
  {
   "cell_type": "code",
   "execution_count": 85,
   "metadata": {},
   "outputs": [
    {
     "data": {
      "text/plain": [
       "Dirección     1\n",
       "Comuna        1\n",
       "dtype: int64"
      ]
     },
     "execution_count": 85,
     "metadata": {},
     "output_type": "execute_result"
    }
   ],
   "source": [
    "# datos nulos\n",
    "df.isnull().sum()"
   ]
  },
  {
   "cell_type": "code",
   "execution_count": null,
   "metadata": {},
   "outputs": [],
   "source": [
    "# Borramos los datos NaN\n",
    "df.dropna(inplace=True)"
   ]
  },
  {
   "cell_type": "markdown",
   "metadata": {},
   "source": [
    "## 2.- Un poco de limpieza\n",
    "\n",
    "En el nombre de las columnas quitamos los espacios y cambiamos minúsculas por mayúsculas."
   ]
  },
  {
   "cell_type": "code",
   "execution_count": 86,
   "metadata": {},
   "outputs": [],
   "source": [
    "# En los nombres de columnas cambiamos espacios por sin espacio y mayusculas las cambiamos por minusculas\n",
    "df.columns = df.columns.str.replace(\" \", \"\")\n",
    "df.columns = df.columns.str.lower()"
   ]
  },
  {
   "cell_type": "code",
   "execution_count": 93,
   "metadata": {},
   "outputs": [
    {
     "data": {
      "text/html": [
       "<div>\n",
       "<style scoped>\n",
       "    .dataframe tbody tr th:only-of-type {\n",
       "        vertical-align: middle;\n",
       "    }\n",
       "\n",
       "    .dataframe tbody tr th {\n",
       "        vertical-align: top;\n",
       "    }\n",
       "\n",
       "    .dataframe thead th {\n",
       "        text-align: right;\n",
       "    }\n",
       "</style>\n",
       "<table border=\"1\" class=\"dataframe\">\n",
       "  <thead>\n",
       "    <tr style=\"text-align: right;\">\n",
       "      <th></th>\n",
       "      <th>dirección</th>\n",
       "      <th>comuna</th>\n",
       "      <th>direccion_esp</th>\n",
       "    </tr>\n",
       "  </thead>\n",
       "  <tbody>\n",
       "    <tr>\n",
       "      <th>0</th>\n",
       "      <td>Manuel Rodríguez 39</td>\n",
       "      <td>Santiago (Centro)</td>\n",
       "      <td>Manuel Rodríguez 39, Santiago , Chile</td>\n",
       "    </tr>\n",
       "    <tr>\n",
       "      <th>1</th>\n",
       "      <td>Sergio Valdovinos 1399</td>\n",
       "      <td>Santiago (Centro)</td>\n",
       "      <td>Sergio Valdovinos 1399, Santiago , Chile</td>\n",
       "    </tr>\n",
       "    <tr>\n",
       "      <th>2</th>\n",
       "      <td>Huérfanos 1685</td>\n",
       "      <td>Santiago (Centro)</td>\n",
       "      <td>Huérfanos 1685, Santiago , Chile</td>\n",
       "    </tr>\n",
       "    <tr>\n",
       "      <th>3</th>\n",
       "      <td>Av Fermín vivaceta 2040</td>\n",
       "      <td>Independencia</td>\n",
       "      <td>Av Fermín vivaceta 2040, Inpenncia, Chile</td>\n",
       "    </tr>\n",
       "    <tr>\n",
       "      <th>4</th>\n",
       "      <td>Maule 1467</td>\n",
       "      <td>Renca</td>\n",
       "      <td>Maule 1467, Renca, Chile</td>\n",
       "    </tr>\n",
       "  </tbody>\n",
       "</table>\n",
       "</div>"
      ],
      "text/plain": [
       "                 dirección             comuna  \\\n",
       "0      Manuel Rodríguez 39  Santiago (Centro)   \n",
       "1   Sergio Valdovinos 1399  Santiago (Centro)   \n",
       "2           Huérfanos 1685  Santiago (Centro)   \n",
       "3  Av Fermín vivaceta 2040      Independencia   \n",
       "4               Maule 1467              Renca   \n",
       "\n",
       "                               direccion_esp  \n",
       "0      Manuel Rodríguez 39, Santiago , Chile  \n",
       "1   Sergio Valdovinos 1399, Santiago , Chile  \n",
       "2           Huérfanos 1685, Santiago , Chile  \n",
       "3  Av Fermín vivaceta 2040, Inpenncia, Chile  \n",
       "4                   Maule 1467, Renca, Chile  "
      ]
     },
     "execution_count": 93,
     "metadata": {},
     "output_type": "execute_result"
    }
   ],
   "source": [
    "df.head()"
   ]
  },
  {
   "cell_type": "markdown",
   "metadata": {},
   "source": [
    "## 3.- Preprocesamiento de dirección\n",
    "\n",
    "Generamos una nueva columna la cual contenga la dirección de manera más específica. Esto lo logramos concatenando la columnas dirección, comuna y agregando el pais Chile."
   ]
  },
  {
   "cell_type": "code",
   "execution_count": 89,
   "metadata": {},
   "outputs": [],
   "source": [
    "df['direccion_esp'] = df['dirección'] + \",\" + \" \" + df['comuna'] + \",\"+ \" \" + 'Chile' "
   ]
  },
  {
   "cell_type": "markdown",
   "metadata": {},
   "source": [
    "Ademas quitamos algunos caracteres y palabras que nos pueden ensuciar la busqueda en la Api"
   ]
  },
  {
   "cell_type": "code",
   "execution_count": 91,
   "metadata": {},
   "outputs": [],
   "source": [
    "df['direccion_esp'] = df['direccion_esp'].str.replace(\"(\", \"\")\n",
    "df['direccion_esp'] = df['direccion_esp'].str.replace(\")\", \"\")\n",
    "df['direccion_esp'] = df['direccion_esp'].str.replace(\"Centro\", \"\")\n",
    "df['direccion_esp'] = df['direccion_esp'].str.replace(\"Calle\", \"\")\n",
    "df['direccion_esp'] = df['direccion_esp'].str.replace(\"calle\", \"\")\n",
    "df['direccion_esp'] = df['direccion_esp'].str.replace(\"de\", \"\")\n",
    "df['direccion_esp'] = df['direccion_esp'].str.replace(\"del\", \"\")\n",
    "df['direccion_esp'] = df['direccion_esp'].str.replace(\"De\", \"\")\n",
    "df['direccion_esp'] = df['direccion_esp'].str.replace(\"Del\", \"\")"
   ]
  },
  {
   "cell_type": "code",
   "execution_count": 92,
   "metadata": {},
   "outputs": [
    {
     "data": {
      "text/html": [
       "<div>\n",
       "<style scoped>\n",
       "    .dataframe tbody tr th:only-of-type {\n",
       "        vertical-align: middle;\n",
       "    }\n",
       "\n",
       "    .dataframe tbody tr th {\n",
       "        vertical-align: top;\n",
       "    }\n",
       "\n",
       "    .dataframe thead th {\n",
       "        text-align: right;\n",
       "    }\n",
       "</style>\n",
       "<table border=\"1\" class=\"dataframe\">\n",
       "  <thead>\n",
       "    <tr style=\"text-align: right;\">\n",
       "      <th></th>\n",
       "      <th>dirección</th>\n",
       "      <th>comuna</th>\n",
       "      <th>direccion_esp</th>\n",
       "    </tr>\n",
       "  </thead>\n",
       "  <tbody>\n",
       "    <tr>\n",
       "      <th>0</th>\n",
       "      <td>Manuel Rodríguez 39</td>\n",
       "      <td>Santiago (Centro)</td>\n",
       "      <td>Manuel Rodríguez 39, Santiago , Chile</td>\n",
       "    </tr>\n",
       "    <tr>\n",
       "      <th>1</th>\n",
       "      <td>Sergio Valdovinos 1399</td>\n",
       "      <td>Santiago (Centro)</td>\n",
       "      <td>Sergio Valdovinos 1399, Santiago , Chile</td>\n",
       "    </tr>\n",
       "    <tr>\n",
       "      <th>2</th>\n",
       "      <td>Huérfanos 1685</td>\n",
       "      <td>Santiago (Centro)</td>\n",
       "      <td>Huérfanos 1685, Santiago , Chile</td>\n",
       "    </tr>\n",
       "    <tr>\n",
       "      <th>3</th>\n",
       "      <td>Av Fermín vivaceta 2040</td>\n",
       "      <td>Independencia</td>\n",
       "      <td>Av Fermín vivaceta 2040, Inpenncia, Chile</td>\n",
       "    </tr>\n",
       "    <tr>\n",
       "      <th>4</th>\n",
       "      <td>Maule 1467</td>\n",
       "      <td>Renca</td>\n",
       "      <td>Maule 1467, Renca, Chile</td>\n",
       "    </tr>\n",
       "  </tbody>\n",
       "</table>\n",
       "</div>"
      ],
      "text/plain": [
       "                 dirección             comuna  \\\n",
       "0      Manuel Rodríguez 39  Santiago (Centro)   \n",
       "1   Sergio Valdovinos 1399  Santiago (Centro)   \n",
       "2           Huérfanos 1685  Santiago (Centro)   \n",
       "3  Av Fermín vivaceta 2040      Independencia   \n",
       "4               Maule 1467              Renca   \n",
       "\n",
       "                               direccion_esp  \n",
       "0      Manuel Rodríguez 39, Santiago , Chile  \n",
       "1   Sergio Valdovinos 1399, Santiago , Chile  \n",
       "2           Huérfanos 1685, Santiago , Chile  \n",
       "3  Av Fermín vivaceta 2040, Inpenncia, Chile  \n",
       "4                   Maule 1467, Renca, Chile  "
      ]
     },
     "execution_count": 92,
     "metadata": {},
     "output_type": "execute_result"
    }
   ],
   "source": [
    "# Observamos como queda nuestro df\n",
    "df.head()"
   ]
  },
  {
   "cell_type": "markdown",
   "metadata": {},
   "source": [
    "## 4.- Transformación de dirección a Latitud y Longitud\n",
    "\n",
    "Ahora procedemos a \"jugar\" con la biblioteca GeoPy. Primero generamos nuestro objeto \"geocoder\". Aqui utilizamos el metodo \"Nominatum\".\n",
    "Según la documentacion de GeoPy, para realizar las consultas a la API debe haber un retardo mínimo de un segundo. Para esto utilizamos la función \"RateLimiter\" la cual nos permitira realizar consultas con un 1s de delay entre consultas."
   ]
  },
  {
   "cell_type": "code",
   "execution_count": 94,
   "metadata": {},
   "outputs": [],
   "source": [
    "# Nominatim geocoder for OpenStreetMap data with RateLimiter\n",
    "geocoder = RateLimiter(Nominatim(user_agent='MyApp2').geocode, min_delay_seconds=1)"
   ]
  },
  {
   "cell_type": "markdown",
   "metadata": {},
   "source": [
    "Una vez instanciado nuestro elemento geocoder, prodecemos a entregarle nuestra data. A este objeto podemos solicitarle que nos entregue directamente la longitud y la latitud con .latitude o .longitude pero para esto habria que hacer dos llamados a la api y eso toma el doble de tiempo. Por eso opté por ocupar el metodo .raw para obtener toda la informacion de la direccion de una vez luego y despues filtrarla."
   ]
  },
  {
   "cell_type": "code",
   "execution_count": 14,
   "metadata": {},
   "outputs": [
    {
     "name": "stdout",
     "output_type": "stream",
     "text": [
      "Wall time: 3min 59s\n"
     ]
    }
   ],
   "source": [
    "%%time\n",
    "raw_list =[]\n",
    "\n",
    "for idx, value in df2['direccion_esp'].iteritems():\n",
    "    try:\n",
    "        raw = geocoder(value).raw\n",
    "        raw_list.append(raw)\n",
    "    except:\n",
    "        raw_list.append('No data')\n",
    "        pass\n",
    "    "
   ]
  },
  {
   "cell_type": "code",
   "execution_count": 97,
   "metadata": {},
   "outputs": [
    {
     "data": {
      "text/plain": [
       "[{'place_id': 191661034,\n",
       "  'licence': 'Data © OpenStreetMap contributors, ODbL 1.0. https://osm.org/copyright',\n",
       "  'osm_type': 'way',\n",
       "  'osm_id': 445535001,\n",
       "  'boundingbox': ['-33.4565161', '-33.4557998', '-70.6574126', '-70.6570149'],\n",
       "  'lat': '-33.456178',\n",
       "  'lon': '-70.6571672',\n",
       "  'display_name': 'Manuel Rodríguez, Santiago, Provincia de Santiago, Región Metropolitana de Santiago, 8370403, Chile',\n",
       "  'class': 'highway',\n",
       "  'type': 'primary',\n",
       "  'importance': 0.5199999999999999},\n",
       " {'place_id': 110149353,\n",
       "  'licence': 'Data © OpenStreetMap contributors, ODbL 1.0. https://osm.org/copyright',\n",
       "  'osm_type': 'way',\n",
       "  'osm_id': 89908536,\n",
       "  'boundingbox': ['-33.4324663', '-33.4280714', '-70.707171', '-70.7064054'],\n",
       "  'lat': '-33.4308179',\n",
       "  'lon': '-70.7069057',\n",
       "  'display_name': 'Sergio Valdovinos, Quinta Normal, Provincia de Santiago, Región Metropolitana de Santiago, WW, Chile',\n",
       "  'class': 'highway',\n",
       "  'type': 'secondary',\n",
       "  'importance': 0.51}]"
      ]
     },
     "execution_count": 97,
     "metadata": {},
     "output_type": "execute_result"
    }
   ],
   "source": [
    "# Vemos que es lo que guardo raw_list\n",
    "raw_list[:2]"
   ]
  },
  {
   "cell_type": "markdown",
   "metadata": {},
   "source": [
    "Observamos en que posición de la data obtenemos los datos que necesitamos"
   ]
  },
  {
   "cell_type": "code",
   "execution_count": 99,
   "metadata": {},
   "outputs": [
    {
     "name": "stdout",
     "output_type": "stream",
     "text": [
      "-33.456178\n",
      "-70.6571672\n"
     ]
    }
   ],
   "source": [
    "# Latitud\n",
    "print(raw_list[0]['lat'])\n",
    "# longitud\n",
    "print(raw_list[0]['lon'])"
   ]
  },
  {
   "cell_type": "markdown",
   "metadata": {},
   "source": [
    "Procedemos a obtener la latitud y la longitud de toda la data."
   ]
  },
  {
   "cell_type": "code",
   "execution_count": 38,
   "metadata": {},
   "outputs": [],
   "source": [
    "lat = []\n",
    "lon = []\n",
    "for data in raw_list:  \n",
    "    if data != 'No data':\n",
    "        lat.append(data['lat'])\n",
    "        lon.append(data['lon'])\n",
    "    else:\n",
    "        lat.append('No Data')\n",
    "        lon.append('No Data')"
   ]
  },
  {
   "cell_type": "markdown",
   "metadata": {},
   "source": [
    "Generamos dos series y la concatenamos al df"
   ]
  },
  {
   "cell_type": "code",
   "execution_count": 102,
   "metadata": {},
   "outputs": [],
   "source": [
    "df['latitud'] = pd.Series(lat)\n",
    "df['longitud'] = pd.Series(lon)"
   ]
  },
  {
   "cell_type": "code",
   "execution_count": 109,
   "metadata": {},
   "outputs": [
    {
     "data": {
      "text/html": [
       "<div>\n",
       "<style scoped>\n",
       "    .dataframe tbody tr th:only-of-type {\n",
       "        vertical-align: middle;\n",
       "    }\n",
       "\n",
       "    .dataframe tbody tr th {\n",
       "        vertical-align: top;\n",
       "    }\n",
       "\n",
       "    .dataframe thead th {\n",
       "        text-align: right;\n",
       "    }\n",
       "</style>\n",
       "<table border=\"1\" class=\"dataframe\">\n",
       "  <thead>\n",
       "    <tr style=\"text-align: right;\">\n",
       "      <th></th>\n",
       "      <th>dirección</th>\n",
       "      <th>comuna</th>\n",
       "      <th>direccion_esp</th>\n",
       "      <th>latitud</th>\n",
       "      <th>longitud</th>\n",
       "    </tr>\n",
       "  </thead>\n",
       "  <tbody>\n",
       "    <tr>\n",
       "      <th>215</th>\n",
       "      <td>Buseta 4280</td>\n",
       "      <td>Cerrillos</td>\n",
       "      <td>Buseta 4280, Cerrillos, Chile</td>\n",
       "      <td>No Data</td>\n",
       "      <td>No Data</td>\n",
       "    </tr>\n",
       "    <tr>\n",
       "      <th>104</th>\n",
       "      <td>Cuasimodo 3698</td>\n",
       "      <td>San Miguel</td>\n",
       "      <td>Cuasimodo 3698, San Miguel, Chile</td>\n",
       "      <td>-33.48970374615385</td>\n",
       "      <td>-70.64257256923077</td>\n",
       "    </tr>\n",
       "    <tr>\n",
       "      <th>40</th>\n",
       "      <td>El roble 574</td>\n",
       "      <td>Recoleta</td>\n",
       "      <td>El roble 574, Recoleta, Chile</td>\n",
       "      <td>-33.4049126</td>\n",
       "      <td>-70.6411061</td>\n",
       "    </tr>\n",
       "    <tr>\n",
       "      <th>17</th>\n",
       "      <td>Mar de chile 3694</td>\n",
       "      <td>Conchalí</td>\n",
       "      <td>Mar  chile 3694, Conchalí, Chile</td>\n",
       "      <td>-33.3970373</td>\n",
       "      <td>-70.6818167</td>\n",
       "    </tr>\n",
       "    <tr>\n",
       "      <th>99</th>\n",
       "      <td>Oscar Gonzáles 5421</td>\n",
       "      <td>Estación Central</td>\n",
       "      <td>Oscar Gonzáles 5421, Estación Central, Chile</td>\n",
       "      <td>No Data</td>\n",
       "      <td>No Data</td>\n",
       "    </tr>\n",
       "  </tbody>\n",
       "</table>\n",
       "</div>"
      ],
      "text/plain": [
       "               dirección            comuna  \\\n",
       "215          Buseta 4280         Cerrillos   \n",
       "104       Cuasimodo 3698        San Miguel   \n",
       "40          El roble 574          Recoleta   \n",
       "17     Mar de chile 3694          Conchalí   \n",
       "99   Oscar Gonzáles 5421  Estación Central   \n",
       "\n",
       "                                    direccion_esp             latitud  \\\n",
       "215                 Buseta 4280, Cerrillos, Chile             No Data   \n",
       "104             Cuasimodo 3698, San Miguel, Chile  -33.48970374615385   \n",
       "40                  El roble 574, Recoleta, Chile         -33.4049126   \n",
       "17               Mar  chile 3694, Conchalí, Chile         -33.3970373   \n",
       "99   Oscar Gonzáles 5421, Estación Central, Chile             No Data   \n",
       "\n",
       "               longitud  \n",
       "215             No Data  \n",
       "104  -70.64257256923077  \n",
       "40          -70.6411061  \n",
       "17          -70.6818167  \n",
       "99              No Data  "
      ]
     },
     "execution_count": 109,
     "metadata": {},
     "output_type": "execute_result"
    }
   ],
   "source": [
    "df.sample(5)"
   ]
  },
  {
   "cell_type": "markdown",
   "metadata": {},
   "source": [
    "Verificamos cuantas direcciones NO se encontraron"
   ]
  },
  {
   "cell_type": "code",
   "execution_count": 111,
   "metadata": {},
   "outputs": [
    {
     "data": {
      "text/plain": [
       "No Data                71\n",
       "-33.3903291             8\n",
       "-33.4494469             8\n",
       "-33.4141433             6\n",
       "-33.437259147619045     5\n",
       "                       ..\n",
       "-33.3626619             1\n",
       "-33.455807750000005     1\n",
       "-33.3867593             1\n",
       "-33.4047774             1\n",
       "-33.4062369             1\n",
       "Name: latitud, Length: 104, dtype: int64"
      ]
     },
     "execution_count": 111,
     "metadata": {},
     "output_type": "execute_result"
    }
   ],
   "source": [
    "df['latitud'].value_counts()"
   ]
  },
  {
   "cell_type": "markdown",
   "metadata": {},
   "source": [
    "Podemos observar que 71 direcciones no fueron encontradas. El gran motivo es porque las direcciones vienen incompletas o bien, estan mal escritas. Me falta probar con la api de google. Creo que podria terner un mejor rendimiento pero este servicio es pagado :(."
   ]
  },
  {
   "cell_type": "markdown",
   "metadata": {},
   "source": [
    "## 5.- Calcular distancia a una dirección específica\n",
    "\n",
    "Ahora procedemos a calcular la distancia a una direccion específica. Para esto le entregamos nuestra dirección especifica a geocoder para que la convierta a latitud y longitud. En este caso utilizaremos la dirección 'Dublé Almeyda 3143, Ñuñoa, Chile'."
   ]
  },
  {
   "cell_type": "code",
   "execution_count": 112,
   "metadata": {},
   "outputs": [],
   "source": [
    "coor_origen = (geocoder('Dublé Almeyda 3143, Ñuñoa, Chile').latitude, geocoder('Dublé Almeyda 3143, Ñuñoa, Chile').longitude)"
   ]
  },
  {
   "cell_type": "code",
   "execution_count": 113,
   "metadata": {},
   "outputs": [
    {
     "data": {
      "text/plain": [
       "(-33.4566638, -70.5984268)"
      ]
     },
     "execution_count": 113,
     "metadata": {},
     "output_type": "execute_result"
    }
   ],
   "source": [
    "coor_origen"
   ]
  },
  {
   "cell_type": "markdown",
   "metadata": {},
   "source": [
    "Iteramos sobre las columnas del dataframe y calculamos la distancia con el método .distance donde se le entrega el par de coordeadas de destino y el par de cordenadas de origen."
   ]
  },
  {
   "cell_type": "code",
   "execution_count": 115,
   "metadata": {},
   "outputs": [],
   "source": [
    "distancia = []\n",
    "for lat, lon in zip(df['latitud'], df['longitud']):\n",
    "    if lat != 'No Data':\n",
    "        d = distance.distance((lat, lon), (coor_origen[0], coor_origen[1])).km\n",
    "        distancia.append(d)\n",
    "    else:\n",
    "        distancia.append('No Data')"
   ]
  },
  {
   "cell_type": "markdown",
   "metadata": {},
   "source": [
    "Generamos una nueva columna con las distancia y la concatenamos a nuestro df"
   ]
  },
  {
   "cell_type": "code",
   "execution_count": 119,
   "metadata": {},
   "outputs": [],
   "source": [
    "df['distancia'] = pd.Series(distancia)"
   ]
  },
  {
   "cell_type": "code",
   "execution_count": 120,
   "metadata": {},
   "outputs": [
    {
     "data": {
      "text/html": [
       "<div>\n",
       "<style scoped>\n",
       "    .dataframe tbody tr th:only-of-type {\n",
       "        vertical-align: middle;\n",
       "    }\n",
       "\n",
       "    .dataframe tbody tr th {\n",
       "        vertical-align: top;\n",
       "    }\n",
       "\n",
       "    .dataframe thead th {\n",
       "        text-align: right;\n",
       "    }\n",
       "</style>\n",
       "<table border=\"1\" class=\"dataframe\">\n",
       "  <thead>\n",
       "    <tr style=\"text-align: right;\">\n",
       "      <th></th>\n",
       "      <th>dirección</th>\n",
       "      <th>comuna</th>\n",
       "      <th>direccion_esp</th>\n",
       "      <th>latitud</th>\n",
       "      <th>longitud</th>\n",
       "      <th>distancia</th>\n",
       "    </tr>\n",
       "  </thead>\n",
       "  <tbody>\n",
       "    <tr>\n",
       "      <th>56</th>\n",
       "      <td>General Freire 5011</td>\n",
       "      <td>Renca</td>\n",
       "      <td>General Freire 5011, Renca, Chile</td>\n",
       "      <td>-33.4009058</td>\n",
       "      <td>-70.7242124</td>\n",
       "      <td>13.232</td>\n",
       "    </tr>\n",
       "    <tr>\n",
       "      <th>60</th>\n",
       "      <td>Rio quetro 6221</td>\n",
       "      <td>Estación Central</td>\n",
       "      <td>Rio quetro 6221, Estación Central, Chile</td>\n",
       "      <td>-33.4689687</td>\n",
       "      <td>-70.7032165</td>\n",
       "      <td>9.83662</td>\n",
       "    </tr>\n",
       "    <tr>\n",
       "      <th>12</th>\n",
       "      <td>Av dorsol 1301</td>\n",
       "      <td>Conchalí</td>\n",
       "      <td>Av dorsol 1301, Conchalí, Chile</td>\n",
       "      <td>No Data</td>\n",
       "      <td>No Data</td>\n",
       "      <td>No Data</td>\n",
       "    </tr>\n",
       "    <tr>\n",
       "      <th>52</th>\n",
       "      <td>Ismael Valdés 1954</td>\n",
       "      <td>Pedro Aguirre Cerda</td>\n",
       "      <td>Ismael Valdés 1954, Pedro Aguirre Cerda, Chile</td>\n",
       "      <td>-33.4803263</td>\n",
       "      <td>-70.6569822</td>\n",
       "      <td>6.04277</td>\n",
       "    </tr>\n",
       "    <tr>\n",
       "      <th>130</th>\n",
       "      <td>Huérfanos 1919</td>\n",
       "      <td>Santiago (Centro)</td>\n",
       "      <td>Huérfanos 1919, Santiago , Chile</td>\n",
       "      <td>-33.44087445544655</td>\n",
       "      <td>-70.66390559348785</td>\n",
       "      <td>6.33491</td>\n",
       "    </tr>\n",
       "    <tr>\n",
       "      <th>157</th>\n",
       "      <td>Moneda 2180</td>\n",
       "      <td>Santiago (Centro)</td>\n",
       "      <td>Moneda 2180, Santiago , Chile</td>\n",
       "      <td>-33.443554006250004</td>\n",
       "      <td>-70.6658983875</td>\n",
       "      <td>6.43953</td>\n",
       "    </tr>\n",
       "    <tr>\n",
       "      <th>140</th>\n",
       "      <td>Milan 1426</td>\n",
       "      <td>San Miguel</td>\n",
       "      <td>Milan 1426, San Miguel, Chile</td>\n",
       "      <td>-33.4775663</td>\n",
       "      <td>-70.6490781</td>\n",
       "      <td>5.24824</td>\n",
       "    </tr>\n",
       "    <tr>\n",
       "      <th>132</th>\n",
       "      <td>Marquesitas 3984</td>\n",
       "      <td>Renca</td>\n",
       "      <td>Marquesitas 3984, Renca, Chile</td>\n",
       "      <td>No Data</td>\n",
       "      <td>No Data</td>\n",
       "      <td>No Data</td>\n",
       "    </tr>\n",
       "    <tr>\n",
       "      <th>53</th>\n",
       "      <td>Ismael Valdés 1954</td>\n",
       "      <td>Pedro Aguirre Cerda</td>\n",
       "      <td>Ismael Valdés 1954, Pedro Aguirre Cerda, Chile</td>\n",
       "      <td>-33.4803263</td>\n",
       "      <td>-70.6569822</td>\n",
       "      <td>6.04277</td>\n",
       "    </tr>\n",
       "    <tr>\n",
       "      <th>179</th>\n",
       "      <td>Guardia marina 891</td>\n",
       "      <td>Santiago (Centro)</td>\n",
       "      <td>Guardia marina 891, Santiago , Chile</td>\n",
       "      <td>-33.5008539</td>\n",
       "      <td>-70.7504598</td>\n",
       "      <td>14.9566</td>\n",
       "    </tr>\n",
       "  </tbody>\n",
       "</table>\n",
       "</div>"
      ],
      "text/plain": [
       "               dirección               comuna  \\\n",
       "56   General Freire 5011                Renca   \n",
       "60       Rio quetro 6221     Estación Central   \n",
       "12        Av dorsol 1301             Conchalí   \n",
       "52    Ismael Valdés 1954  Pedro Aguirre Cerda   \n",
       "130       Huérfanos 1919    Santiago (Centro)   \n",
       "157          Moneda 2180    Santiago (Centro)   \n",
       "140           Milan 1426           San Miguel   \n",
       "132     Marquesitas 3984                Renca   \n",
       "53    Ismael Valdés 1954  Pedro Aguirre Cerda   \n",
       "179   Guardia marina 891    Santiago (Centro)   \n",
       "\n",
       "                                      direccion_esp              latitud  \\\n",
       "56                General Freire 5011, Renca, Chile          -33.4009058   \n",
       "60         Rio quetro 6221, Estación Central, Chile          -33.4689687   \n",
       "12                  Av dorsol 1301, Conchalí, Chile              No Data   \n",
       "52   Ismael Valdés 1954, Pedro Aguirre Cerda, Chile          -33.4803263   \n",
       "130                Huérfanos 1919, Santiago , Chile   -33.44087445544655   \n",
       "157                   Moneda 2180, Santiago , Chile  -33.443554006250004   \n",
       "140                   Milan 1426, San Miguel, Chile          -33.4775663   \n",
       "132                  Marquesitas 3984, Renca, Chile              No Data   \n",
       "53   Ismael Valdés 1954, Pedro Aguirre Cerda, Chile          -33.4803263   \n",
       "179            Guardia marina 891, Santiago , Chile          -33.5008539   \n",
       "\n",
       "               longitud distancia  \n",
       "56          -70.7242124    13.232  \n",
       "60          -70.7032165   9.83662  \n",
       "12              No Data   No Data  \n",
       "52          -70.6569822   6.04277  \n",
       "130  -70.66390559348785   6.33491  \n",
       "157      -70.6658983875   6.43953  \n",
       "140         -70.6490781   5.24824  \n",
       "132             No Data   No Data  \n",
       "53          -70.6569822   6.04277  \n",
       "179         -70.7504598   14.9566  "
      ]
     },
     "execution_count": 120,
     "metadata": {},
     "output_type": "execute_result"
    }
   ],
   "source": [
    "df.sample(10)"
   ]
  },
  {
   "cell_type": "code",
   "execution_count": null,
   "metadata": {},
   "outputs": [],
   "source": []
  },
  {
   "cell_type": "code",
   "execution_count": null,
   "metadata": {},
   "outputs": [],
   "source": []
  }
 ],
 "metadata": {
  "kernelspec": {
   "display_name": "Python 3",
   "language": "python",
   "name": "python3"
  },
  "language_info": {
   "codemirror_mode": {
    "name": "ipython",
    "version": 3
   },
   "file_extension": ".py",
   "mimetype": "text/x-python",
   "name": "python",
   "nbconvert_exporter": "python",
   "pygments_lexer": "ipython3",
   "version": "3.8.5"
  }
 },
 "nbformat": 4,
 "nbformat_minor": 4
}
