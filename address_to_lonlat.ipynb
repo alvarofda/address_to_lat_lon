{
 "cells": [
  {
   "cell_type": "markdown",
   "metadata": {},
   "source": [
    "# GEOCODING con GeoPy\n",
    "\n",
    "    - Autor: alvarofda\n",
    "    - Fecha: 10/08/2021\n",
    "    \n",
    "## Objetivo\n",
    "\n",
    "    - Trasnformar un set de direcciones a latitud y longitud.\n",
    "    - Calcular distancia a un punto específico."
   ]
  },
  {
   "cell_type": "markdown",
   "metadata": {},
   "source": [
    "## 1 - Observamos la data"
   ]
  },
  {
   "cell_type": "code",
   "execution_count": 1,
   "metadata": {},
   "outputs": [],
   "source": [
    "# Librerias\n",
    "import pandas as pd\n",
    "import geopy\n",
    "from geopy.geocoders import Nominatim\n",
    "from geopy.extra.rate_limiter import RateLimiter\n",
    "from geopy import distance\n",
    "#import unidecode\n",
    "import warnings\n",
    "warnings.filterwarnings(\"ignore\")"
   ]
  },
  {
   "cell_type": "code",
   "execution_count": 2,
   "metadata": {},
   "outputs": [],
   "source": [
    "# importamos set de datos\n",
    "df = pd.read_csv('direcciones.csv').drop(columns=['Unnamed: 0'])"
   ]
  },
  {
   "cell_type": "code",
   "execution_count": 3,
   "metadata": {},
   "outputs": [
    {
     "data": {
      "text/html": [
       "<div>\n",
       "<style scoped>\n",
       "    .dataframe tbody tr th:only-of-type {\n",
       "        vertical-align: middle;\n",
       "    }\n",
       "\n",
       "    .dataframe tbody tr th {\n",
       "        vertical-align: top;\n",
       "    }\n",
       "\n",
       "    .dataframe thead th {\n",
       "        text-align: right;\n",
       "    }\n",
       "</style>\n",
       "<table border=\"1\" class=\"dataframe\">\n",
       "  <thead>\n",
       "    <tr style=\"text-align: right;\">\n",
       "      <th></th>\n",
       "      <th>Dirección</th>\n",
       "      <th>Comuna</th>\n",
       "    </tr>\n",
       "  </thead>\n",
       "  <tbody>\n",
       "    <tr>\n",
       "      <th>0</th>\n",
       "      <td>Manuel Rodríguez 39</td>\n",
       "      <td>Santiago (Centro)</td>\n",
       "    </tr>\n",
       "    <tr>\n",
       "      <th>1</th>\n",
       "      <td>Sergio Valdovinos 1399</td>\n",
       "      <td>Santiago (Centro)</td>\n",
       "    </tr>\n",
       "    <tr>\n",
       "      <th>2</th>\n",
       "      <td>Huérfanos 1685</td>\n",
       "      <td>Santiago (Centro)</td>\n",
       "    </tr>\n",
       "    <tr>\n",
       "      <th>3</th>\n",
       "      <td>Av Fermín vivaceta 2040</td>\n",
       "      <td>Independencia</td>\n",
       "    </tr>\n",
       "    <tr>\n",
       "      <th>4</th>\n",
       "      <td>Maule 1467</td>\n",
       "      <td>Renca</td>\n",
       "    </tr>\n",
       "  </tbody>\n",
       "</table>\n",
       "</div>"
      ],
      "text/plain": [
       "                Dirección              Comuna\n",
       "0      Manuel Rodríguez 39  Santiago (Centro)\n",
       "1   Sergio Valdovinos 1399  Santiago (Centro)\n",
       "2           Huérfanos 1685  Santiago (Centro)\n",
       "3  Av Fermín vivaceta 2040      Independencia\n",
       "4               Maule 1467              Renca"
      ]
     },
     "execution_count": 3,
     "metadata": {},
     "output_type": "execute_result"
    }
   ],
   "source": [
    "# Vemos algunos registros de la data\n",
    "df.head()"
   ]
  },
  {
   "cell_type": "code",
   "execution_count": 4,
   "metadata": {},
   "outputs": [
    {
     "data": {
      "text/plain": [
       "(238, 2)"
      ]
     },
     "execution_count": 4,
     "metadata": {},
     "output_type": "execute_result"
    }
   ],
   "source": [
    "# dimensión de la data\n",
    "df.shape"
   ]
  },
  {
   "cell_type": "code",
   "execution_count": 5,
   "metadata": {},
   "outputs": [
    {
     "data": {
      "text/plain": [
       "Dirección     1\n",
       "Comuna        1\n",
       "dtype: int64"
      ]
     },
     "execution_count": 5,
     "metadata": {},
     "output_type": "execute_result"
    }
   ],
   "source": [
    "# datos nulos\n",
    "df.isnull().sum()"
   ]
  },
  {
   "cell_type": "code",
   "execution_count": 6,
   "metadata": {},
   "outputs": [],
   "source": [
    "# Borramos los datos NaN\n",
    "df.dropna(inplace=True)"
   ]
  },
  {
   "cell_type": "markdown",
   "metadata": {},
   "source": [
    "## 2.- Un poco de limpieza\n",
    "\n",
    "En el nombre de las columnas quitamos los espacios y cambiamos minúsculas por mayúsculas."
   ]
  },
  {
   "cell_type": "code",
   "execution_count": 7,
   "metadata": {},
   "outputs": [],
   "source": [
    "# En los nombres de columnas cambiamos espacios por sin espacio y mayusculas las cambiamos por minusculas\n",
    "df.columns = df.columns.str.replace(\" \", \"\")\n",
    "df.columns = df.columns.str.lower()"
   ]
  },
  {
   "cell_type": "code",
   "execution_count": 8,
   "metadata": {},
   "outputs": [
    {
     "data": {
      "text/html": [
       "<div>\n",
       "<style scoped>\n",
       "    .dataframe tbody tr th:only-of-type {\n",
       "        vertical-align: middle;\n",
       "    }\n",
       "\n",
       "    .dataframe tbody tr th {\n",
       "        vertical-align: top;\n",
       "    }\n",
       "\n",
       "    .dataframe thead th {\n",
       "        text-align: right;\n",
       "    }\n",
       "</style>\n",
       "<table border=\"1\" class=\"dataframe\">\n",
       "  <thead>\n",
       "    <tr style=\"text-align: right;\">\n",
       "      <th></th>\n",
       "      <th>dirección</th>\n",
       "      <th>comuna</th>\n",
       "    </tr>\n",
       "  </thead>\n",
       "  <tbody>\n",
       "    <tr>\n",
       "      <th>0</th>\n",
       "      <td>Manuel Rodríguez 39</td>\n",
       "      <td>Santiago (Centro)</td>\n",
       "    </tr>\n",
       "    <tr>\n",
       "      <th>1</th>\n",
       "      <td>Sergio Valdovinos 1399</td>\n",
       "      <td>Santiago (Centro)</td>\n",
       "    </tr>\n",
       "    <tr>\n",
       "      <th>2</th>\n",
       "      <td>Huérfanos 1685</td>\n",
       "      <td>Santiago (Centro)</td>\n",
       "    </tr>\n",
       "    <tr>\n",
       "      <th>3</th>\n",
       "      <td>Av Fermín vivaceta 2040</td>\n",
       "      <td>Independencia</td>\n",
       "    </tr>\n",
       "    <tr>\n",
       "      <th>4</th>\n",
       "      <td>Maule 1467</td>\n",
       "      <td>Renca</td>\n",
       "    </tr>\n",
       "  </tbody>\n",
       "</table>\n",
       "</div>"
      ],
      "text/plain": [
       "                 dirección             comuna\n",
       "0      Manuel Rodríguez 39  Santiago (Centro)\n",
       "1   Sergio Valdovinos 1399  Santiago (Centro)\n",
       "2           Huérfanos 1685  Santiago (Centro)\n",
       "3  Av Fermín vivaceta 2040      Independencia\n",
       "4               Maule 1467              Renca"
      ]
     },
     "execution_count": 8,
     "metadata": {},
     "output_type": "execute_result"
    }
   ],
   "source": [
    "df.head()"
   ]
  },
  {
   "cell_type": "markdown",
   "metadata": {},
   "source": [
    "## 3.- Preprocesamiento de dirección\n",
    "\n",
    "Generamos una nueva columna la cual contenga la dirección de manera más específica. Esto lo logramos concatenando la columnas dirección, comuna y agregando el pais Chile."
   ]
  },
  {
   "cell_type": "code",
   "execution_count": 9,
   "metadata": {},
   "outputs": [],
   "source": [
    "df['direccion_esp'] = df['dirección'] + \",\" + \" \" + df['comuna'] + \",\"+ \" \" + 'Chile' "
   ]
  },
  {
   "cell_type": "markdown",
   "metadata": {},
   "source": [
    "Ademas quitamos algunos caracteres y palabras que nos pueden ensuciar la busqueda en la Api"
   ]
  },
  {
   "cell_type": "code",
   "execution_count": 10,
   "metadata": {},
   "outputs": [],
   "source": [
    "df['direccion_esp'] = df['direccion_esp'].str.replace(\"(\", \"\")\n",
    "df['direccion_esp'] = df['direccion_esp'].str.replace(\")\", \"\")\n",
    "df['direccion_esp'] = df['direccion_esp'].str.replace(\"Centro\", \"\")\n",
    "df['direccion_esp'] = df['direccion_esp'].str.replace(\"Calle\", \"\")\n",
    "df['direccion_esp'] = df['direccion_esp'].str.replace(\"calle\", \"\")\n",
    "df['direccion_esp'] = df['direccion_esp'].str.replace(\"de\", \"\")\n",
    "df['direccion_esp'] = df['direccion_esp'].str.replace(\"del\", \"\")\n",
    "df['direccion_esp'] = df['direccion_esp'].str.replace(\"De\", \"\")\n",
    "df['direccion_esp'] = df['direccion_esp'].str.replace(\"Del\", \"\")"
   ]
  },
  {
   "cell_type": "code",
   "execution_count": 11,
   "metadata": {},
   "outputs": [
    {
     "data": {
      "text/html": [
       "<div>\n",
       "<style scoped>\n",
       "    .dataframe tbody tr th:only-of-type {\n",
       "        vertical-align: middle;\n",
       "    }\n",
       "\n",
       "    .dataframe tbody tr th {\n",
       "        vertical-align: top;\n",
       "    }\n",
       "\n",
       "    .dataframe thead th {\n",
       "        text-align: right;\n",
       "    }\n",
       "</style>\n",
       "<table border=\"1\" class=\"dataframe\">\n",
       "  <thead>\n",
       "    <tr style=\"text-align: right;\">\n",
       "      <th></th>\n",
       "      <th>dirección</th>\n",
       "      <th>comuna</th>\n",
       "      <th>direccion_esp</th>\n",
       "    </tr>\n",
       "  </thead>\n",
       "  <tbody>\n",
       "    <tr>\n",
       "      <th>0</th>\n",
       "      <td>Manuel Rodríguez 39</td>\n",
       "      <td>Santiago (Centro)</td>\n",
       "      <td>Manuel Rodríguez 39, Santiago , Chile</td>\n",
       "    </tr>\n",
       "    <tr>\n",
       "      <th>1</th>\n",
       "      <td>Sergio Valdovinos 1399</td>\n",
       "      <td>Santiago (Centro)</td>\n",
       "      <td>Sergio Valdovinos 1399, Santiago , Chile</td>\n",
       "    </tr>\n",
       "    <tr>\n",
       "      <th>2</th>\n",
       "      <td>Huérfanos 1685</td>\n",
       "      <td>Santiago (Centro)</td>\n",
       "      <td>Huérfanos 1685, Santiago , Chile</td>\n",
       "    </tr>\n",
       "    <tr>\n",
       "      <th>3</th>\n",
       "      <td>Av Fermín vivaceta 2040</td>\n",
       "      <td>Independencia</td>\n",
       "      <td>Av Fermín vivaceta 2040, Inpenncia, Chile</td>\n",
       "    </tr>\n",
       "    <tr>\n",
       "      <th>4</th>\n",
       "      <td>Maule 1467</td>\n",
       "      <td>Renca</td>\n",
       "      <td>Maule 1467, Renca, Chile</td>\n",
       "    </tr>\n",
       "  </tbody>\n",
       "</table>\n",
       "</div>"
      ],
      "text/plain": [
       "                 dirección             comuna  \\\n",
       "0      Manuel Rodríguez 39  Santiago (Centro)   \n",
       "1   Sergio Valdovinos 1399  Santiago (Centro)   \n",
       "2           Huérfanos 1685  Santiago (Centro)   \n",
       "3  Av Fermín vivaceta 2040      Independencia   \n",
       "4               Maule 1467              Renca   \n",
       "\n",
       "                               direccion_esp  \n",
       "0      Manuel Rodríguez 39, Santiago , Chile  \n",
       "1   Sergio Valdovinos 1399, Santiago , Chile  \n",
       "2           Huérfanos 1685, Santiago , Chile  \n",
       "3  Av Fermín vivaceta 2040, Inpenncia, Chile  \n",
       "4                   Maule 1467, Renca, Chile  "
      ]
     },
     "execution_count": 11,
     "metadata": {},
     "output_type": "execute_result"
    }
   ],
   "source": [
    "# Observamos como queda nuestro df\n",
    "df.head()"
   ]
  },
  {
   "cell_type": "markdown",
   "metadata": {},
   "source": [
    "## 4.- Transformación de dirección a Latitud y Longitud\n",
    "\n",
    "Ahora procedemos a \"jugar\" con la biblioteca GeoPy. Primero generamos nuestro objeto \"geocoder\". Aqui utilizamos el metodo \"Nominatum\".\n",
    "Según la documentacion de GeoPy, para realizar las consultas a la API debe haber un retardo mínimo de un segundo. Para esto utilizamos la función \"RateLimiter\" la cual nos permitira realizar consultas con un 1s de delay entre consultas."
   ]
  },
  {
   "cell_type": "code",
   "execution_count": 12,
   "metadata": {},
   "outputs": [],
   "source": [
    "# Nominatim geocoder for OpenStreetMap data with RateLimiter\n",
    "geocoder = RateLimiter(Nominatim(user_agent='MyApp2').geocode, min_delay_seconds=1)"
   ]
  },
  {
   "cell_type": "markdown",
   "metadata": {},
   "source": [
    "Una vez instanciado nuestro elemento geocoder, prodecemos a entregarle nuestra data. A este objeto podemos solicitarle que nos entregue directamente la longitud y la latitud con .latitude o .longitude pero para esto habria que hacer dos llamados a la api y eso toma el doble de tiempo. Por eso opté por ocupar el metodo .raw para obtener toda la informacion de la direccion de una vez luego y despues filtrarla."
   ]
  },
  {
   "cell_type": "code",
   "execution_count": 13,
   "metadata": {},
   "outputs": [
    {
     "name": "stdout",
     "output_type": "stream",
     "text": [
      "Wall time: 3min 57s\n"
     ]
    }
   ],
   "source": [
    "%%time\n",
    "raw_list =[]\n",
    "\n",
    "for idx, value in df['direccion_esp'].iteritems():\n",
    "    try:\n",
    "        raw = geocoder(value).raw\n",
    "        raw_list.append(raw)\n",
    "    except:\n",
    "        raw_list.append('No data')\n",
    "        pass\n",
    "    "
   ]
  },
  {
   "cell_type": "code",
   "execution_count": 14,
   "metadata": {},
   "outputs": [
    {
     "data": {
      "text/plain": [
       "[{'place_id': 191661034,\n",
       "  'licence': 'Data © OpenStreetMap contributors, ODbL 1.0. https://osm.org/copyright',\n",
       "  'osm_type': 'way',\n",
       "  'osm_id': 445535001,\n",
       "  'boundingbox': ['-33.4565161', '-33.4557998', '-70.6574126', '-70.6570149'],\n",
       "  'lat': '-33.456178',\n",
       "  'lon': '-70.6571672',\n",
       "  'display_name': 'Manuel Rodríguez, Santiago, Provincia de Santiago, Región Metropolitana de Santiago, 8370403, Chile',\n",
       "  'class': 'highway',\n",
       "  'type': 'primary',\n",
       "  'importance': 0.5199999999999999},\n",
       " {'place_id': 110149353,\n",
       "  'licence': 'Data © OpenStreetMap contributors, ODbL 1.0. https://osm.org/copyright',\n",
       "  'osm_type': 'way',\n",
       "  'osm_id': 89908536,\n",
       "  'boundingbox': ['-33.4324663', '-33.4280714', '-70.707171', '-70.7064054'],\n",
       "  'lat': '-33.4308179',\n",
       "  'lon': '-70.7069057',\n",
       "  'display_name': 'Sergio Valdovinos, Quinta Normal, Provincia de Santiago, Región Metropolitana de Santiago, WW, Chile',\n",
       "  'class': 'highway',\n",
       "  'type': 'secondary',\n",
       "  'importance': 0.51}]"
      ]
     },
     "execution_count": 14,
     "metadata": {},
     "output_type": "execute_result"
    }
   ],
   "source": [
    "# Vemos que es lo que guardo raw_list\n",
    "raw_list[:2]"
   ]
  },
  {
   "cell_type": "markdown",
   "metadata": {},
   "source": [
    "Observamos en que posición de la data obtenemos los datos que necesitamos"
   ]
  },
  {
   "cell_type": "code",
   "execution_count": 15,
   "metadata": {},
   "outputs": [
    {
     "name": "stdout",
     "output_type": "stream",
     "text": [
      "-33.456178\n",
      "-70.6571672\n"
     ]
    }
   ],
   "source": [
    "# Latitud\n",
    "print(raw_list[0]['lat'])\n",
    "# longitud\n",
    "print(raw_list[0]['lon'])"
   ]
  },
  {
   "cell_type": "markdown",
   "metadata": {},
   "source": [
    "Procedemos a obtener la latitud y la longitud de toda la data."
   ]
  },
  {
   "cell_type": "code",
   "execution_count": 16,
   "metadata": {},
   "outputs": [],
   "source": [
    "lat = []\n",
    "lon = []\n",
    "for data in raw_list:  \n",
    "    if data != 'No data':\n",
    "        lat.append(data['lat'])\n",
    "        lon.append(data['lon'])\n",
    "    else:\n",
    "        lat.append('No data')\n",
    "        lon.append('No data')"
   ]
  },
  {
   "cell_type": "markdown",
   "metadata": {},
   "source": [
    "Generamos dos series y la concatenamos al df"
   ]
  },
  {
   "cell_type": "code",
   "execution_count": 17,
   "metadata": {},
   "outputs": [],
   "source": [
    "df['latitud'] = pd.Series(lat)\n",
    "df['longitud'] = pd.Series(lon)"
   ]
  },
  {
   "cell_type": "code",
   "execution_count": 18,
   "metadata": {},
   "outputs": [
    {
     "data": {
      "text/html": [
       "<div>\n",
       "<style scoped>\n",
       "    .dataframe tbody tr th:only-of-type {\n",
       "        vertical-align: middle;\n",
       "    }\n",
       "\n",
       "    .dataframe tbody tr th {\n",
       "        vertical-align: top;\n",
       "    }\n",
       "\n",
       "    .dataframe thead th {\n",
       "        text-align: right;\n",
       "    }\n",
       "</style>\n",
       "<table border=\"1\" class=\"dataframe\">\n",
       "  <thead>\n",
       "    <tr style=\"text-align: right;\">\n",
       "      <th></th>\n",
       "      <th>dirección</th>\n",
       "      <th>comuna</th>\n",
       "      <th>direccion_esp</th>\n",
       "      <th>latitud</th>\n",
       "      <th>longitud</th>\n",
       "    </tr>\n",
       "  </thead>\n",
       "  <tbody>\n",
       "    <tr>\n",
       "      <th>46</th>\n",
       "      <td>Lord Cochrane 209</td>\n",
       "      <td>Santiago (Centro)</td>\n",
       "      <td>Lord Cochrane 209, Santiago , Chile</td>\n",
       "      <td>-33.4494469</td>\n",
       "      <td>-70.65516594311204</td>\n",
       "    </tr>\n",
       "    <tr>\n",
       "      <th>34</th>\n",
       "      <td>10 de julio 736</td>\n",
       "      <td>Santiago (Centro)</td>\n",
       "      <td>10  julio 736, Santiago , Chile</td>\n",
       "      <td>No Data</td>\n",
       "      <td>No Data</td>\n",
       "    </tr>\n",
       "    <tr>\n",
       "      <th>200</th>\n",
       "      <td>Nataniel coca 331</td>\n",
       "      <td>Santiago (Centro)</td>\n",
       "      <td>Nataniel coca 331, Santiago , Chile</td>\n",
       "      <td>No Data</td>\n",
       "      <td>No Data</td>\n",
       "    </tr>\n",
       "    <tr>\n",
       "      <th>139</th>\n",
       "      <td>Samuel díaz pasa 1511</td>\n",
       "      <td>Recoleta</td>\n",
       "      <td>Samuel díaz pasa 1511, Recoleta, Chile</td>\n",
       "      <td>No Data</td>\n",
       "      <td>No Data</td>\n",
       "    </tr>\n",
       "    <tr>\n",
       "      <th>9</th>\n",
       "      <td>Mawin 802</td>\n",
       "      <td>Independencia</td>\n",
       "      <td>Mawin 802, Inpenncia, Chile</td>\n",
       "      <td>No Data</td>\n",
       "      <td>No Data</td>\n",
       "    </tr>\n",
       "  </tbody>\n",
       "</table>\n",
       "</div>"
      ],
      "text/plain": [
       "                 dirección             comuna  \\\n",
       "46       Lord Cochrane 209  Santiago (Centro)   \n",
       "34         10 de julio 736  Santiago (Centro)   \n",
       "200      Nataniel coca 331  Santiago (Centro)   \n",
       "139  Samuel díaz pasa 1511           Recoleta   \n",
       "9                Mawin 802      Independencia   \n",
       "\n",
       "                              direccion_esp      latitud            longitud  \n",
       "46      Lord Cochrane 209, Santiago , Chile  -33.4494469  -70.65516594311204  \n",
       "34          10  julio 736, Santiago , Chile      No Data             No Data  \n",
       "200     Nataniel coca 331, Santiago , Chile      No Data             No Data  \n",
       "139  Samuel díaz pasa 1511, Recoleta, Chile      No Data             No Data  \n",
       "9               Mawin 802, Inpenncia, Chile      No Data             No Data  "
      ]
     },
     "execution_count": 18,
     "metadata": {},
     "output_type": "execute_result"
    }
   ],
   "source": [
    "df.sample(5)"
   ]
  },
  {
   "cell_type": "markdown",
   "metadata": {},
   "source": [
    "Verificamos cuantas direcciones NO se encontraron"
   ]
  },
  {
   "cell_type": "code",
   "execution_count": 19,
   "metadata": {},
   "outputs": [
    {
     "data": {
      "text/plain": [
       "No Data                71\n",
       "-33.3903291             8\n",
       "-33.4494469             8\n",
       "-33.4141433             6\n",
       "-33.437259147619045     5\n",
       "                       ..\n",
       "-33.3626619             1\n",
       "-33.4055961             1\n",
       "-33.3898708             1\n",
       "-33.48970374615385      1\n",
       "-33.5089191             1\n",
       "Name: latitud, Length: 103, dtype: int64"
      ]
     },
     "execution_count": 19,
     "metadata": {},
     "output_type": "execute_result"
    }
   ],
   "source": [
    "df['latitud'].value_counts()"
   ]
  },
  {
   "cell_type": "markdown",
   "metadata": {},
   "source": [
    "Podemos observar que 71 direcciones no fueron encontradas. El gran motivo es porque las direcciones vienen incompletas o bien, estan mal escritas. Me falta probar con la api de google. Creo que podria terner un mejor rendimiento pero este servicio es pagado :(."
   ]
  },
  {
   "cell_type": "markdown",
   "metadata": {},
   "source": [
    "## 5.- Calcular distancia a una dirección específica\n",
    "\n",
    "Ahora procedemos a calcular la distancia a una direccion específica. Para esto le entregamos nuestra dirección especifica a geocoder para que la convierta a latitud y longitud. En este caso utilizaremos la dirección 'Dublé Almeyda 3143, Ñuñoa, Chile'."
   ]
  },
  {
   "cell_type": "code",
   "execution_count": 20,
   "metadata": {},
   "outputs": [],
   "source": [
    "coor_origen = (geocoder('Dublé Almeyda 3143, Ñuñoa, Chile').latitude, geocoder('Dublé Almeyda 3143, Ñuñoa, Chile').longitude)"
   ]
  },
  {
   "cell_type": "code",
   "execution_count": 21,
   "metadata": {},
   "outputs": [
    {
     "data": {
      "text/plain": [
       "(-33.4566638, -70.5984268)"
      ]
     },
     "execution_count": 21,
     "metadata": {},
     "output_type": "execute_result"
    }
   ],
   "source": [
    "coor_origen"
   ]
  },
  {
   "cell_type": "markdown",
   "metadata": {},
   "source": [
    "Iteramos sobre las columnas del dataframe y calculamos la distancia con el método .distance donde se le entrega el par de coordeadas de destino y el par de cordenadas de origen."
   ]
  },
  {
   "cell_type": "code",
   "execution_count": 22,
   "metadata": {},
   "outputs": [],
   "source": [
    "distancia = []\n",
    "for lat, lon in zip(df['latitud'], df['longitud']):\n",
    "    if lat != 'No data':\n",
    "        d = distance.distance((lat, lon), (coor_origen[0], coor_origen[1])).km\n",
    "        distancia.append(d)\n",
    "    else:\n",
    "        distancia.append('No data')"
   ]
  },
  {
   "cell_type": "markdown",
   "metadata": {},
   "source": [
    "Generamos una nueva columna con las distancia y la concatenamos a nuestro df"
   ]
  },
  {
   "cell_type": "code",
   "execution_count": 23,
   "metadata": {},
   "outputs": [],
   "source": [
    "df['distancia'] = pd.Series(distancia)"
   ]
  },
  {
   "cell_type": "markdown",
   "metadata": {},
   "source": [
    "Observamos nuestro dataframe final"
   ]
  },
  {
   "cell_type": "code",
   "execution_count": 24,
   "metadata": {},
   "outputs": [
    {
     "data": {
      "text/html": [
       "<div>\n",
       "<style scoped>\n",
       "    .dataframe tbody tr th:only-of-type {\n",
       "        vertical-align: middle;\n",
       "    }\n",
       "\n",
       "    .dataframe tbody tr th {\n",
       "        vertical-align: top;\n",
       "    }\n",
       "\n",
       "    .dataframe thead th {\n",
       "        text-align: right;\n",
       "    }\n",
       "</style>\n",
       "<table border=\"1\" class=\"dataframe\">\n",
       "  <thead>\n",
       "    <tr style=\"text-align: right;\">\n",
       "      <th></th>\n",
       "      <th>dirección</th>\n",
       "      <th>comuna</th>\n",
       "      <th>direccion_esp</th>\n",
       "      <th>latitud</th>\n",
       "      <th>longitud</th>\n",
       "      <th>distancia</th>\n",
       "    </tr>\n",
       "  </thead>\n",
       "  <tbody>\n",
       "    <tr>\n",
       "      <th>5</th>\n",
       "      <td>José Manuel borgoy</td>\n",
       "      <td>Renca</td>\n",
       "      <td>José Manuel borgoy, Renca, Chile</td>\n",
       "      <td>No Data</td>\n",
       "      <td>No Data</td>\n",
       "      <td>No Data</td>\n",
       "    </tr>\n",
       "    <tr>\n",
       "      <th>102</th>\n",
       "      <td>Conde del Maule 4364</td>\n",
       "      <td>Estación Central</td>\n",
       "      <td>Con l Maule 4364, Estación Central, Chile</td>\n",
       "      <td>No Data</td>\n",
       "      <td>No Data</td>\n",
       "      <td>No Data</td>\n",
       "    </tr>\n",
       "    <tr>\n",
       "      <th>72</th>\n",
       "      <td>Josué Smith sólar  380</td>\n",
       "      <td>Providencia</td>\n",
       "      <td>Josué Smith sólar  380, Provincia, Chile</td>\n",
       "      <td>-33.42381925</td>\n",
       "      <td>-70.60555433708737</td>\n",
       "      <td>3.70266</td>\n",
       "    </tr>\n",
       "    <tr>\n",
       "      <th>48</th>\n",
       "      <td>San Ignacio 169</td>\n",
       "      <td>Santiago (Centro)</td>\n",
       "      <td>San Ignacio 169, Santiago , Chile</td>\n",
       "      <td>-33.44856325</td>\n",
       "      <td>-70.65700797783106</td>\n",
       "      <td>5.52008</td>\n",
       "    </tr>\n",
       "    <tr>\n",
       "      <th>115</th>\n",
       "      <td>Robles 12729</td>\n",
       "      <td>Lo Barnechea†</td>\n",
       "      <td>Robles 12729, Lo Barnechea†, Chile</td>\n",
       "      <td>-33.3626619</td>\n",
       "      <td>-70.5167968</td>\n",
       "      <td>12.8979</td>\n",
       "    </tr>\n",
       "    <tr>\n",
       "      <th>228</th>\n",
       "      <td>Rafael Soto mayor 535</td>\n",
       "      <td>Santiago (Centro)</td>\n",
       "      <td>Rafael Soto mayor 535, Santiago , Chile</td>\n",
       "      <td>No Data</td>\n",
       "      <td>No Data</td>\n",
       "      <td>No Data</td>\n",
       "    </tr>\n",
       "    <tr>\n",
       "      <th>80</th>\n",
       "      <td>Las madreselvas 3767</td>\n",
       "      <td>Renca</td>\n",
       "      <td>Las madreselvas 3767, Renca, Chile</td>\n",
       "      <td>-33.3996419</td>\n",
       "      <td>-70.6938071</td>\n",
       "      <td>10.8941</td>\n",
       "    </tr>\n",
       "    <tr>\n",
       "      <th>85</th>\n",
       "      <td>Club hípico 785</td>\n",
       "      <td>Santiago (Centro)</td>\n",
       "      <td>Club hípico 785, Santiago , Chile</td>\n",
       "      <td>-33.456919799999994</td>\n",
       "      <td>-70.66510390652495</td>\n",
       "      <td>6.19895</td>\n",
       "    </tr>\n",
       "    <tr>\n",
       "      <th>202</th>\n",
       "      <td>Club hípico 641</td>\n",
       "      <td>Santiago (Centro)</td>\n",
       "      <td>Club hípico 641, Santiago , Chile</td>\n",
       "      <td>-33.455807750000005</td>\n",
       "      <td>-70.66535432917622</td>\n",
       "      <td>6.22293</td>\n",
       "    </tr>\n",
       "    <tr>\n",
       "      <th>76</th>\n",
       "      <td>Los alacalufes 3424</td>\n",
       "      <td>Renca</td>\n",
       "      <td>Los alacalufes 3424, Renca, Chile</td>\n",
       "      <td>-33.3886145</td>\n",
       "      <td>-70.6957593</td>\n",
       "      <td>11.786</td>\n",
       "    </tr>\n",
       "  </tbody>\n",
       "</table>\n",
       "</div>"
      ],
      "text/plain": [
       "                  dirección             comuna  \\\n",
       "5        José Manuel borgoy              Renca   \n",
       "102    Conde del Maule 4364   Estación Central   \n",
       "72   Josué Smith sólar  380        Providencia   \n",
       "48          San Ignacio 169  Santiago (Centro)   \n",
       "115            Robles 12729      Lo Barnechea†   \n",
       "228   Rafael Soto mayor 535  Santiago (Centro)   \n",
       "80     Las madreselvas 3767              Renca   \n",
       "85          Club hípico 785  Santiago (Centro)   \n",
       "202         Club hípico 641  Santiago (Centro)   \n",
       "76      Los alacalufes 3424              Renca   \n",
       "\n",
       "                                 direccion_esp              latitud  \\\n",
       "5             José Manuel borgoy, Renca, Chile              No Data   \n",
       "102  Con l Maule 4364, Estación Central, Chile              No Data   \n",
       "72    Josué Smith sólar  380, Provincia, Chile         -33.42381925   \n",
       "48           San Ignacio 169, Santiago , Chile         -33.44856325   \n",
       "115         Robles 12729, Lo Barnechea†, Chile          -33.3626619   \n",
       "228    Rafael Soto mayor 535, Santiago , Chile              No Data   \n",
       "80          Las madreselvas 3767, Renca, Chile          -33.3996419   \n",
       "85           Club hípico 785, Santiago , Chile  -33.456919799999994   \n",
       "202          Club hípico 641, Santiago , Chile  -33.455807750000005   \n",
       "76           Los alacalufes 3424, Renca, Chile          -33.3886145   \n",
       "\n",
       "               longitud distancia  \n",
       "5               No Data   No Data  \n",
       "102             No Data   No Data  \n",
       "72   -70.60555433708737   3.70266  \n",
       "48   -70.65700797783106   5.52008  \n",
       "115         -70.5167968   12.8979  \n",
       "228             No Data   No Data  \n",
       "80          -70.6938071   10.8941  \n",
       "85   -70.66510390652495   6.19895  \n",
       "202  -70.66535432917622   6.22293  \n",
       "76          -70.6957593    11.786  "
      ]
     },
     "execution_count": 24,
     "metadata": {},
     "output_type": "execute_result"
    }
   ],
   "source": [
    "df.sample(10)"
   ]
  },
  {
   "cell_type": "code",
   "execution_count": null,
   "metadata": {},
   "outputs": [],
   "source": []
  },
  {
   "cell_type": "code",
   "execution_count": null,
   "metadata": {},
   "outputs": [],
   "source": []
  }
 ],
 "metadata": {
  "kernelspec": {
   "display_name": "Python 3",
   "language": "python",
   "name": "python3"
  },
  "language_info": {
   "codemirror_mode": {
    "name": "ipython",
    "version": 3
   },
   "file_extension": ".py",
   "mimetype": "text/x-python",
   "name": "python",
   "nbconvert_exporter": "python",
   "pygments_lexer": "ipython3",
   "version": "3.8.5"
  }
 },
 "nbformat": 4,
 "nbformat_minor": 4
}
